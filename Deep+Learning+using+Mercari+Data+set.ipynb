{
 "cells": [
  {
   "cell_type": "markdown",
   "metadata": {
    "collapsed": true
   },
   "source": [
    "## Getting Started\n",
    "\n",
    "In this exercise I will use the features I previously engineered using R and Kaggle Mercari Price challenge data set. \n",
    "\n",
    "We will start with loading the libraries and functions we will need during the modeling."
   ]
  },
  {
   "cell_type": "code",
   "execution_count": 1,
   "metadata": {},
   "outputs": [
    {
     "name": "stderr",
     "output_type": "stream",
     "text": [
      "Using TensorFlow backend.\n",
      "/Users/OZANAYGUN/anaconda/lib/python3.6/importlib/_bootstrap.py:205: RuntimeWarning: compiletime version 3.5 of module 'tensorflow.python.framework.fast_tensor_util' does not match runtime version 3.6\n",
      "  return f(*args, **kwds)\n"
     ]
    }
   ],
   "source": [
    "import pandas as pd\n",
    "import numpy as np\n",
    "import os\n",
    "import keras\n",
    "from keras.layers import Dense\n",
    "from keras.models import Sequential\n",
    "from keras.callbacks import EarlyStopping\n",
    "from sklearn.metrics import mean_squared_error\n",
    "np.random.seed(12345)"
   ]
  },
  {
   "cell_type": "code",
   "execution_count": 3,
   "metadata": {},
   "outputs": [
    {
     "data": {
      "text/plain": [
       "['.git',\n",
       " '.ipynb_checkpoints',\n",
       " 'Deep+Learning+using+Mercari+Data+set.ipynb',\n",
       " 'mini_subtrain.csv',\n",
       " 'subtrain.csv',\n",
       " 'validation.csv']"
      ]
     },
     "execution_count": 3,
     "metadata": {},
     "output_type": "execute_result"
    }
   ],
   "source": [
    "os.listdir()"
   ]
  },
  {
   "cell_type": "code",
   "execution_count": 13,
   "metadata": {},
   "outputs": [
    {
     "data": {
      "text/html": [
       "<div>\n",
       "<style>\n",
       "    .dataframe thead tr:only-child th {\n",
       "        text-align: right;\n",
       "    }\n",
       "\n",
       "    .dataframe thead th {\n",
       "        text-align: left;\n",
       "    }\n",
       "\n",
       "    .dataframe tbody tr th {\n",
       "        vertical-align: top;\n",
       "    }\n",
       "</style>\n",
       "<table border=\"1\" class=\"dataframe\">\n",
       "  <thead>\n",
       "    <tr style=\"text-align: right;\">\n",
       "      <th></th>\n",
       "      <th>item_condition_id</th>\n",
       "      <th>price</th>\n",
       "      <th>shipping</th>\n",
       "      <th>no.brand_name</th>\n",
       "      <th>log.excl.description</th>\n",
       "      <th>excl.name</th>\n",
       "      <th>dollar.description</th>\n",
       "      <th>fancy.categories</th>\n",
       "      <th>cheap.categories</th>\n",
       "      <th>fancy.brands</th>\n",
       "      <th>...</th>\n",
       "      <th>now</th>\n",
       "      <th>cheap</th>\n",
       "      <th>buy</th>\n",
       "      <th>excellent</th>\n",
       "      <th>great</th>\n",
       "      <th>michael.brand</th>\n",
       "      <th>jordan.name</th>\n",
       "      <th>iphon.name</th>\n",
       "      <th>bundl.name</th>\n",
       "      <th>cap.letter.brand</th>\n",
       "    </tr>\n",
       "  </thead>\n",
       "  <tbody>\n",
       "    <tr>\n",
       "      <th>1</th>\n",
       "      <td>1</td>\n",
       "      <td>8.0</td>\n",
       "      <td>0</td>\n",
       "      <td>1</td>\n",
       "      <td>0.0</td>\n",
       "      <td>0</td>\n",
       "      <td>0</td>\n",
       "      <td>0</td>\n",
       "      <td>0</td>\n",
       "      <td>0</td>\n",
       "      <td>...</td>\n",
       "      <td>0</td>\n",
       "      <td>0</td>\n",
       "      <td>0</td>\n",
       "      <td>0</td>\n",
       "      <td>0</td>\n",
       "      <td>0</td>\n",
       "      <td>0</td>\n",
       "      <td>0</td>\n",
       "      <td>0</td>\n",
       "      <td>1</td>\n",
       "    </tr>\n",
       "    <tr>\n",
       "      <th>2</th>\n",
       "      <td>2</td>\n",
       "      <td>39.0</td>\n",
       "      <td>1</td>\n",
       "      <td>1</td>\n",
       "      <td>0.0</td>\n",
       "      <td>0</td>\n",
       "      <td>0</td>\n",
       "      <td>0</td>\n",
       "      <td>0</td>\n",
       "      <td>0</td>\n",
       "      <td>...</td>\n",
       "      <td>0</td>\n",
       "      <td>0</td>\n",
       "      <td>0</td>\n",
       "      <td>0</td>\n",
       "      <td>0</td>\n",
       "      <td>0</td>\n",
       "      <td>0</td>\n",
       "      <td>0</td>\n",
       "      <td>0</td>\n",
       "      <td>1</td>\n",
       "    </tr>\n",
       "    <tr>\n",
       "      <th>3</th>\n",
       "      <td>1</td>\n",
       "      <td>30.0</td>\n",
       "      <td>1</td>\n",
       "      <td>0</td>\n",
       "      <td>0.0</td>\n",
       "      <td>0</td>\n",
       "      <td>0</td>\n",
       "      <td>0</td>\n",
       "      <td>0</td>\n",
       "      <td>0</td>\n",
       "      <td>...</td>\n",
       "      <td>0</td>\n",
       "      <td>0</td>\n",
       "      <td>0</td>\n",
       "      <td>0</td>\n",
       "      <td>0</td>\n",
       "      <td>0</td>\n",
       "      <td>0</td>\n",
       "      <td>0</td>\n",
       "      <td>1</td>\n",
       "      <td>0</td>\n",
       "    </tr>\n",
       "    <tr>\n",
       "      <th>4</th>\n",
       "      <td>2</td>\n",
       "      <td>470.0</td>\n",
       "      <td>1</td>\n",
       "      <td>0</td>\n",
       "      <td>0.0</td>\n",
       "      <td>0</td>\n",
       "      <td>0</td>\n",
       "      <td>0</td>\n",
       "      <td>0</td>\n",
       "      <td>1</td>\n",
       "      <td>...</td>\n",
       "      <td>0</td>\n",
       "      <td>0</td>\n",
       "      <td>0</td>\n",
       "      <td>0</td>\n",
       "      <td>0</td>\n",
       "      <td>0</td>\n",
       "      <td>0</td>\n",
       "      <td>0</td>\n",
       "      <td>0</td>\n",
       "      <td>6</td>\n",
       "    </tr>\n",
       "    <tr>\n",
       "      <th>5</th>\n",
       "      <td>2</td>\n",
       "      <td>22.0</td>\n",
       "      <td>0</td>\n",
       "      <td>0</td>\n",
       "      <td>0.0</td>\n",
       "      <td>0</td>\n",
       "      <td>0</td>\n",
       "      <td>0</td>\n",
       "      <td>0</td>\n",
       "      <td>0</td>\n",
       "      <td>...</td>\n",
       "      <td>0</td>\n",
       "      <td>0</td>\n",
       "      <td>0</td>\n",
       "      <td>0</td>\n",
       "      <td>0</td>\n",
       "      <td>0</td>\n",
       "      <td>0</td>\n",
       "      <td>0</td>\n",
       "      <td>0</td>\n",
       "      <td>2</td>\n",
       "    </tr>\n",
       "  </tbody>\n",
       "</table>\n",
       "<p>5 rows × 27 columns</p>\n",
       "</div>"
      ],
      "text/plain": [
       "   item_condition_id  price  shipping  no.brand_name  log.excl.description  \\\n",
       "1                  1    8.0         0              1                   0.0   \n",
       "2                  2   39.0         1              1                   0.0   \n",
       "3                  1   30.0         1              0                   0.0   \n",
       "4                  2  470.0         1              0                   0.0   \n",
       "5                  2   22.0         0              0                   0.0   \n",
       "\n",
       "   excl.name  dollar.description  fancy.categories  cheap.categories  \\\n",
       "1          0                   0                 0                 0   \n",
       "2          0                   0                 0                 0   \n",
       "3          0                   0                 0                 0   \n",
       "4          0                   0                 0                 0   \n",
       "5          0                   0                 0                 0   \n",
       "\n",
       "   fancy.brands        ...         now  cheap  buy  excellent  great  \\\n",
       "1             0        ...           0      0    0          0      0   \n",
       "2             0        ...           0      0    0          0      0   \n",
       "3             0        ...           0      0    0          0      0   \n",
       "4             1        ...           0      0    0          0      0   \n",
       "5             0        ...           0      0    0          0      0   \n",
       "\n",
       "   michael.brand  jordan.name  iphon.name  bundl.name  cap.letter.brand  \n",
       "1              0            0           0           0                 1  \n",
       "2              0            0           0           0                 1  \n",
       "3              0            0           0           1                 0  \n",
       "4              0            0           0           0                 6  \n",
       "5              0            0           0           0                 2  \n",
       "\n",
       "[5 rows x 27 columns]"
      ]
     },
     "execution_count": 13,
     "metadata": {},
     "output_type": "execute_result"
    }
   ],
   "source": [
    "#First load the mini subtraining set we prepared previously\n",
    "mini_subtrain = pd.read_csv(\"mini_subtrain.csv\", index_col = 0)\n",
    "mini_subtrain.shape\n",
    "mini_subtrain.head()\n"
   ]
  },
  {
   "cell_type": "code",
   "execution_count": 15,
   "metadata": {},
   "outputs": [
    {
     "data": {
      "text/html": [
       "<div>\n",
       "<style>\n",
       "    .dataframe thead tr:only-child th {\n",
       "        text-align: right;\n",
       "    }\n",
       "\n",
       "    .dataframe thead th {\n",
       "        text-align: left;\n",
       "    }\n",
       "\n",
       "    .dataframe tbody tr th {\n",
       "        vertical-align: top;\n",
       "    }\n",
       "</style>\n",
       "<table border=\"1\" class=\"dataframe\">\n",
       "  <thead>\n",
       "    <tr style=\"text-align: right;\">\n",
       "      <th></th>\n",
       "      <th>item_condition_id</th>\n",
       "      <th>price</th>\n",
       "      <th>shipping</th>\n",
       "      <th>no.brand_name</th>\n",
       "      <th>log.excl.description</th>\n",
       "      <th>excl.name</th>\n",
       "      <th>dollar.description</th>\n",
       "      <th>fancy.categories</th>\n",
       "      <th>cheap.categories</th>\n",
       "      <th>fancy.brands</th>\n",
       "      <th>...</th>\n",
       "      <th>now</th>\n",
       "      <th>cheap</th>\n",
       "      <th>buy</th>\n",
       "      <th>excellent</th>\n",
       "      <th>great</th>\n",
       "      <th>michael.brand</th>\n",
       "      <th>jordan.name</th>\n",
       "      <th>iphon.name</th>\n",
       "      <th>bundl.name</th>\n",
       "      <th>cap.letter.brand</th>\n",
       "    </tr>\n",
       "  </thead>\n",
       "  <tbody>\n",
       "    <tr>\n",
       "      <th>count</th>\n",
       "      <td>37066.000000</td>\n",
       "      <td>37066.000000</td>\n",
       "      <td>37066.000000</td>\n",
       "      <td>37066.000000</td>\n",
       "      <td>37066.000000</td>\n",
       "      <td>37066.000000</td>\n",
       "      <td>37066.000000</td>\n",
       "      <td>37066.000000</td>\n",
       "      <td>37066.000000</td>\n",
       "      <td>37066.000000</td>\n",
       "      <td>...</td>\n",
       "      <td>37066.000000</td>\n",
       "      <td>37066.000000</td>\n",
       "      <td>37066.000000</td>\n",
       "      <td>37066.000000</td>\n",
       "      <td>37066.000000</td>\n",
       "      <td>37066.000000</td>\n",
       "      <td>37066.000000</td>\n",
       "      <td>37066.000000</td>\n",
       "      <td>37066.000000</td>\n",
       "      <td>37066.000000</td>\n",
       "    </tr>\n",
       "    <tr>\n",
       "      <th>mean</th>\n",
       "      <td>1.902876</td>\n",
       "      <td>26.581045</td>\n",
       "      <td>0.449630</td>\n",
       "      <td>0.428776</td>\n",
       "      <td>0.461340</td>\n",
       "      <td>0.078266</td>\n",
       "      <td>0.018319</td>\n",
       "      <td>0.003480</td>\n",
       "      <td>0.005126</td>\n",
       "      <td>0.009820</td>\n",
       "      <td>...</td>\n",
       "      <td>0.032752</td>\n",
       "      <td>0.005315</td>\n",
       "      <td>0.031835</td>\n",
       "      <td>0.031134</td>\n",
       "      <td>0.102412</td>\n",
       "      <td>0.008229</td>\n",
       "      <td>0.008013</td>\n",
       "      <td>0.020774</td>\n",
       "      <td>0.051395</td>\n",
       "      <td>1.589732</td>\n",
       "    </tr>\n",
       "    <tr>\n",
       "      <th>std</th>\n",
       "      <td>0.901044</td>\n",
       "      <td>36.188265</td>\n",
       "      <td>0.497463</td>\n",
       "      <td>0.494908</td>\n",
       "      <td>0.985842</td>\n",
       "      <td>0.559334</td>\n",
       "      <td>0.231276</td>\n",
       "      <td>0.058892</td>\n",
       "      <td>0.071413</td>\n",
       "      <td>0.098611</td>\n",
       "      <td>...</td>\n",
       "      <td>0.198214</td>\n",
       "      <td>0.076683</td>\n",
       "      <td>0.211528</td>\n",
       "      <td>0.175689</td>\n",
       "      <td>0.330199</td>\n",
       "      <td>0.090339</td>\n",
       "      <td>0.089156</td>\n",
       "      <td>0.142628</td>\n",
       "      <td>0.220805</td>\n",
       "      <td>1.198543</td>\n",
       "    </tr>\n",
       "    <tr>\n",
       "      <th>min</th>\n",
       "      <td>1.000000</td>\n",
       "      <td>0.000000</td>\n",
       "      <td>0.000000</td>\n",
       "      <td>0.000000</td>\n",
       "      <td>0.000000</td>\n",
       "      <td>0.000000</td>\n",
       "      <td>0.000000</td>\n",
       "      <td>0.000000</td>\n",
       "      <td>0.000000</td>\n",
       "      <td>0.000000</td>\n",
       "      <td>...</td>\n",
       "      <td>0.000000</td>\n",
       "      <td>0.000000</td>\n",
       "      <td>0.000000</td>\n",
       "      <td>0.000000</td>\n",
       "      <td>0.000000</td>\n",
       "      <td>0.000000</td>\n",
       "      <td>0.000000</td>\n",
       "      <td>0.000000</td>\n",
       "      <td>0.000000</td>\n",
       "      <td>0.000000</td>\n",
       "    </tr>\n",
       "    <tr>\n",
       "      <th>25%</th>\n",
       "      <td>1.000000</td>\n",
       "      <td>10.000000</td>\n",
       "      <td>0.000000</td>\n",
       "      <td>0.000000</td>\n",
       "      <td>0.000000</td>\n",
       "      <td>0.000000</td>\n",
       "      <td>0.000000</td>\n",
       "      <td>0.000000</td>\n",
       "      <td>0.000000</td>\n",
       "      <td>0.000000</td>\n",
       "      <td>...</td>\n",
       "      <td>0.000000</td>\n",
       "      <td>0.000000</td>\n",
       "      <td>0.000000</td>\n",
       "      <td>0.000000</td>\n",
       "      <td>0.000000</td>\n",
       "      <td>0.000000</td>\n",
       "      <td>0.000000</td>\n",
       "      <td>0.000000</td>\n",
       "      <td>0.000000</td>\n",
       "      <td>1.000000</td>\n",
       "    </tr>\n",
       "    <tr>\n",
       "      <th>50%</th>\n",
       "      <td>2.000000</td>\n",
       "      <td>17.000000</td>\n",
       "      <td>0.000000</td>\n",
       "      <td>0.000000</td>\n",
       "      <td>0.000000</td>\n",
       "      <td>0.000000</td>\n",
       "      <td>0.000000</td>\n",
       "      <td>0.000000</td>\n",
       "      <td>0.000000</td>\n",
       "      <td>0.000000</td>\n",
       "      <td>...</td>\n",
       "      <td>0.000000</td>\n",
       "      <td>0.000000</td>\n",
       "      <td>0.000000</td>\n",
       "      <td>0.000000</td>\n",
       "      <td>0.000000</td>\n",
       "      <td>0.000000</td>\n",
       "      <td>0.000000</td>\n",
       "      <td>0.000000</td>\n",
       "      <td>0.000000</td>\n",
       "      <td>1.000000</td>\n",
       "    </tr>\n",
       "    <tr>\n",
       "      <th>75%</th>\n",
       "      <td>3.000000</td>\n",
       "      <td>29.000000</td>\n",
       "      <td>1.000000</td>\n",
       "      <td>1.000000</td>\n",
       "      <td>0.693147</td>\n",
       "      <td>0.000000</td>\n",
       "      <td>0.000000</td>\n",
       "      <td>0.000000</td>\n",
       "      <td>0.000000</td>\n",
       "      <td>0.000000</td>\n",
       "      <td>...</td>\n",
       "      <td>0.000000</td>\n",
       "      <td>0.000000</td>\n",
       "      <td>0.000000</td>\n",
       "      <td>0.000000</td>\n",
       "      <td>0.000000</td>\n",
       "      <td>0.000000</td>\n",
       "      <td>0.000000</td>\n",
       "      <td>0.000000</td>\n",
       "      <td>0.000000</td>\n",
       "      <td>2.000000</td>\n",
       "    </tr>\n",
       "    <tr>\n",
       "      <th>max</th>\n",
       "      <td>5.000000</td>\n",
       "      <td>1106.000000</td>\n",
       "      <td>1.000000</td>\n",
       "      <td>1.000000</td>\n",
       "      <td>11.332853</td>\n",
       "      <td>21.000000</td>\n",
       "      <td>14.000000</td>\n",
       "      <td>1.000000</td>\n",
       "      <td>1.000000</td>\n",
       "      <td>1.000000</td>\n",
       "      <td>...</td>\n",
       "      <td>4.000000</td>\n",
       "      <td>3.000000</td>\n",
       "      <td>6.000000</td>\n",
       "      <td>2.000000</td>\n",
       "      <td>4.000000</td>\n",
       "      <td>1.000000</td>\n",
       "      <td>1.000000</td>\n",
       "      <td>1.000000</td>\n",
       "      <td>1.000000</td>\n",
       "      <td>17.000000</td>\n",
       "    </tr>\n",
       "  </tbody>\n",
       "</table>\n",
       "<p>8 rows × 27 columns</p>\n",
       "</div>"
      ],
      "text/plain": [
       "       item_condition_id         price      shipping  no.brand_name  \\\n",
       "count       37066.000000  37066.000000  37066.000000   37066.000000   \n",
       "mean            1.902876     26.581045      0.449630       0.428776   \n",
       "std             0.901044     36.188265      0.497463       0.494908   \n",
       "min             1.000000      0.000000      0.000000       0.000000   \n",
       "25%             1.000000     10.000000      0.000000       0.000000   \n",
       "50%             2.000000     17.000000      0.000000       0.000000   \n",
       "75%             3.000000     29.000000      1.000000       1.000000   \n",
       "max             5.000000   1106.000000      1.000000       1.000000   \n",
       "\n",
       "       log.excl.description     excl.name  dollar.description  \\\n",
       "count          37066.000000  37066.000000        37066.000000   \n",
       "mean               0.461340      0.078266            0.018319   \n",
       "std                0.985842      0.559334            0.231276   \n",
       "min                0.000000      0.000000            0.000000   \n",
       "25%                0.000000      0.000000            0.000000   \n",
       "50%                0.000000      0.000000            0.000000   \n",
       "75%                0.693147      0.000000            0.000000   \n",
       "max               11.332853     21.000000           14.000000   \n",
       "\n",
       "       fancy.categories  cheap.categories  fancy.brands        ...         \\\n",
       "count      37066.000000      37066.000000  37066.000000        ...          \n",
       "mean           0.003480          0.005126      0.009820        ...          \n",
       "std            0.058892          0.071413      0.098611        ...          \n",
       "min            0.000000          0.000000      0.000000        ...          \n",
       "25%            0.000000          0.000000      0.000000        ...          \n",
       "50%            0.000000          0.000000      0.000000        ...          \n",
       "75%            0.000000          0.000000      0.000000        ...          \n",
       "max            1.000000          1.000000      1.000000        ...          \n",
       "\n",
       "                now         cheap           buy     excellent         great  \\\n",
       "count  37066.000000  37066.000000  37066.000000  37066.000000  37066.000000   \n",
       "mean       0.032752      0.005315      0.031835      0.031134      0.102412   \n",
       "std        0.198214      0.076683      0.211528      0.175689      0.330199   \n",
       "min        0.000000      0.000000      0.000000      0.000000      0.000000   \n",
       "25%        0.000000      0.000000      0.000000      0.000000      0.000000   \n",
       "50%        0.000000      0.000000      0.000000      0.000000      0.000000   \n",
       "75%        0.000000      0.000000      0.000000      0.000000      0.000000   \n",
       "max        4.000000      3.000000      6.000000      2.000000      4.000000   \n",
       "\n",
       "       michael.brand   jordan.name    iphon.name    bundl.name  \\\n",
       "count   37066.000000  37066.000000  37066.000000  37066.000000   \n",
       "mean        0.008229      0.008013      0.020774      0.051395   \n",
       "std         0.090339      0.089156      0.142628      0.220805   \n",
       "min         0.000000      0.000000      0.000000      0.000000   \n",
       "25%         0.000000      0.000000      0.000000      0.000000   \n",
       "50%         0.000000      0.000000      0.000000      0.000000   \n",
       "75%         0.000000      0.000000      0.000000      0.000000   \n",
       "max         1.000000      1.000000      1.000000      1.000000   \n",
       "\n",
       "       cap.letter.brand  \n",
       "count      37066.000000  \n",
       "mean           1.589732  \n",
       "std            1.198543  \n",
       "min            0.000000  \n",
       "25%            1.000000  \n",
       "50%            1.000000  \n",
       "75%            2.000000  \n",
       "max           17.000000  \n",
       "\n",
       "[8 rows x 27 columns]"
      ]
     },
     "execution_count": 15,
     "metadata": {},
     "output_type": "execute_result"
    }
   ],
   "source": [
    "mini_subtrain.describe()"
   ]
  },
  {
   "cell_type": "code",
   "execution_count": 16,
   "metadata": {},
   "outputs": [
    {
     "name": "stdout",
     "output_type": "stream",
     "text": [
      "<class 'pandas.core.frame.DataFrame'>\n",
      "Int64Index: 37066 entries, 1 to 37066\n",
      "Data columns (total 27 columns):\n",
      "item_condition_id       37066 non-null int64\n",
      "price                   37066 non-null float64\n",
      "shipping                37066 non-null int64\n",
      "no.brand_name           37066 non-null int64\n",
      "log.excl.description    37066 non-null float64\n",
      "excl.name               37066 non-null int64\n",
      "dollar.description      37066 non-null int64\n",
      "fancy.categories        37066 non-null int64\n",
      "cheap.categories        37066 non-null int64\n",
      "fancy.brands            37066 non-null int64\n",
      "cheap.brands            37066 non-null int64\n",
      "sale                    37066 non-null int64\n",
      "free                    37066 non-null int64\n",
      "save                    37066 non-null int64\n",
      "deal                    37066 non-null int64\n",
      "good                    37066 non-null int64\n",
      "steal                   37066 non-null int64\n",
      "now                     37066 non-null int64\n",
      "cheap                   37066 non-null int64\n",
      "buy                     37066 non-null int64\n",
      "excellent               37066 non-null int64\n",
      "great                   37066 non-null int64\n",
      "michael.brand           37066 non-null int64\n",
      "jordan.name             37066 non-null int64\n",
      "iphon.name              37066 non-null int64\n",
      "bundl.name              37066 non-null int64\n",
      "cap.letter.brand        37066 non-null int64\n",
      "dtypes: float64(2), int64(25)\n",
      "memory usage: 7.9 MB\n"
     ]
    }
   ],
   "source": [
    "mini_subtrain.info()"
   ]
  },
  {
   "cell_type": "markdown",
   "metadata": {},
   "source": [
    "After sucessfully reading the verifying the training data set we have previously constructed using R, we can start building a small neural network and training it by using our data.\n",
    "\n",
    "First we start with seperating predictors and response arrays:"
   ]
  },
  {
   "cell_type": "code",
   "execution_count": 24,
   "metadata": {},
   "outputs": [
    {
     "data": {
      "text/plain": [
       "(37066,)"
      ]
     },
     "execution_count": 24,
     "metadata": {},
     "output_type": "execute_result"
    }
   ],
   "source": [
    "predictors = np.array(mini_subtrain.drop([\"price\"], axis=1))\n",
    "# We will log transform the target variable as we have performed in R\n",
    "target = np.array(np.log(mini_subtrain.price + 1))"
   ]
  },
  {
   "cell_type": "markdown",
   "metadata": {},
   "source": [
    "Next we can start building our network:"
   ]
  },
  {
   "cell_type": "code",
   "execution_count": 31,
   "metadata": {},
   "outputs": [
    {
     "name": "stdout",
     "output_type": "stream",
     "text": [
      "Train on 25946 samples, validate on 11120 samples\n",
      "Epoch 1/30\n",
      "25946/25946 [==============================] - 3s 98us/step - loss: 1.3796 - val_loss: 0.5341\n",
      "Epoch 2/30\n",
      "25946/25946 [==============================] - 1s 56us/step - loss: 0.4969 - val_loss: 0.4515\n",
      "Epoch 3/30\n",
      "25946/25946 [==============================] - 1s 56us/step - loss: 0.4742 - val_loss: 0.4472\n",
      "Epoch 4/30\n",
      "25946/25946 [==============================] - 1s 55us/step - loss: 0.4719 - val_loss: 0.4500\n",
      "Epoch 5/30\n",
      "25946/25946 [==============================] - 2s 66us/step - loss: 0.4720 - val_loss: 0.4457\n",
      "Epoch 6/30\n",
      "25946/25946 [==============================] - 2s 65us/step - loss: 0.4704 - val_loss: 0.4510\n",
      "Epoch 7/30\n",
      "25946/25946 [==============================] - 2s 64us/step - loss: 0.4698 - val_loss: 0.4503\n"
     ]
    }
   ],
   "source": [
    "estop_monitor = EarlyStopping(patience= 2)\n",
    "pre_shape = (predictors.shape[1],)\n",
    "model = Sequential()\n",
    "model.add(Dense(10,activation= \"relu\", input_shape = pre_shape))\n",
    "model.add(Dense(10,activation= \"relu\"))\n",
    "model.add(Dense(1,activation = \"relu\"))\n",
    "model.compile(optimizer= \"adam\", loss= \"mean_squared_error\")\n",
    "model_1 = model.fit(predictors,target, epochs= 30, callbacks= [estop_monitor], validation_split= 0.3)"
   ]
  },
  {
   "cell_type": "markdown",
   "metadata": {},
   "source": [
    "Note that our loss function is \"mean squared error\". We will take the square root of this to follow \"root mean squared error\" (RMSE). We also keep in mind that the target is log transformed."
   ]
  },
  {
   "cell_type": "code",
   "execution_count": 34,
   "metadata": {},
   "outputs": [
    {
     "data": {
      "text/plain": [
       "0.66764026261785125"
      ]
     },
     "execution_count": 34,
     "metadata": {},
     "output_type": "execute_result"
    }
   ],
   "source": [
    "RMSE_model_1 = np.sqrt(min(model_1.history[\"val_loss\"]))\n",
    "RMSE_model_1"
   ]
  },
  {
   "cell_type": "markdown",
   "metadata": {},
   "source": [
    "Note that this RMSE is close to what we have obtained other machine learning algorithms previously. Therefore, we will continue our experiment by increasing model complexity:"
   ]
  },
  {
   "cell_type": "code",
   "execution_count": 41,
   "metadata": {},
   "outputs": [
    {
     "name": "stdout",
     "output_type": "stream",
     "text": [
      "Train on 25946 samples, validate on 11120 samples\n",
      "Epoch 1/30\n",
      "25946/25946 [==============================] - 25s 953us/step - loss: 0.6853 - val_loss: 0.4837\n",
      "Epoch 2/30\n",
      "25946/25946 [==============================] - 25s 949us/step - loss: 0.4860 - val_loss: 0.4547\n",
      "Epoch 3/30\n",
      "25946/25946 [==============================] - 25s 968us/step - loss: 0.4801 - val_loss: 0.4599\n",
      "Epoch 4/30\n",
      "25946/25946 [==============================] - 29s 1ms/step - loss: 0.4754 - val_loss: 0.4593\n"
     ]
    },
    {
     "data": {
      "text/plain": [
       "0.67429454720879667"
      ]
     },
     "execution_count": 41,
     "metadata": {},
     "output_type": "execute_result"
    }
   ],
   "source": [
    "estop_monitor = EarlyStopping(patience= 2)\n",
    "pre_shape = (predictors.shape[1],)\n",
    "model = Sequential()\n",
    "model.add(Dense(1000,activation= \"relu\", input_shape = pre_shape))\n",
    "model.add(Dense(1000,activation= \"relu\"))\n",
    "model.add(Dense(1,activation = \"relu\"))\n",
    "model.compile(optimizer= \"adam\", loss= \"mean_squared_error\")\n",
    "model_2 = model.fit(predictors,target, epochs= 30, callbacks= [estop_monitor], validation_split= 0.3)\n",
    "RMSE_model_2 = np.sqrt(min(model_2.history[\"val_loss\"]))\n",
    "RMSE_model_2"
   ]
  },
  {
   "cell_type": "markdown",
   "metadata": {},
   "source": [
    "It looks like our first model is already at its capacity. "
   ]
  },
  {
   "cell_type": "code",
   "execution_count": 43,
   "metadata": {
    "scrolled": true
   },
   "outputs": [
    {
     "name": "stdout",
     "output_type": "stream",
     "text": [
      "Train on 25946 samples, validate on 11120 samples\n",
      "Epoch 1/30\n",
      "25946/25946 [==============================] - 3s 111us/step - loss: 1.0952 - val_loss: 0.4894\n",
      "Epoch 2/30\n",
      "25946/25946 [==============================] - 2s 72us/step - loss: 0.4874 - val_loss: 0.4550\n",
      "Epoch 3/30\n",
      "25946/25946 [==============================] - 2s 72us/step - loss: 0.4755 - val_loss: 0.4524\n",
      "Epoch 4/30\n",
      "25946/25946 [==============================] - 2s 72us/step - loss: 0.4727 - val_loss: 0.4561\n",
      "Epoch 5/30\n",
      "25946/25946 [==============================] - 2s 66us/step - loss: 0.4711 - val_loss: 0.4517\n",
      "Epoch 6/30\n",
      "25946/25946 [==============================] - 2s 71us/step - loss: 0.4686 - val_loss: 0.4507\n",
      "Epoch 7/30\n",
      "25946/25946 [==============================] - 2s 68us/step - loss: 0.4679 - val_loss: 0.4551\n",
      "Epoch 8/30\n",
      "25946/25946 [==============================] - 2s 84us/step - loss: 0.4683 - val_loss: 0.4571\n"
     ]
    },
    {
     "data": {
      "text/plain": [
       "0.67136944170640311"
      ]
     },
     "execution_count": 43,
     "metadata": {},
     "output_type": "execute_result"
    }
   ],
   "source": [
    "estop_monitor = EarlyStopping(patience= 2)\n",
    "pre_shape = (predictors.shape[1],)\n",
    "model = Sequential()\n",
    "model.add(Dense(10,activation= \"relu\", input_shape = pre_shape))\n",
    "model.add(Dense(10,activation= \"relu\"))\n",
    "model.add(Dense(10,activation= \"relu\"))\n",
    "model.add(Dense(1,activation = \"relu\"))\n",
    "model.compile(optimizer= \"adam\", loss= \"mean_squared_error\")\n",
    "model_3 = model.fit(predictors,target, epochs= 30, callbacks= [estop_monitor], validation_split= 0.3)\n",
    "RMSE_model_3 = np.sqrt(min(model_3.history[\"val_loss\"]))\n",
    "RMSE_model_3"
   ]
  },
  {
   "cell_type": "markdown",
   "metadata": {},
   "source": [
    "Looks like we reached to model capacity even with a relatively simple network. Next, we will try if we can reduce the bias by training a larger data set, which we have available."
   ]
  },
  {
   "cell_type": "code",
   "execution_count": 2,
   "metadata": {},
   "outputs": [
    {
     "data": {
      "text/plain": [
       "['.git',\n",
       " '.ipynb_checkpoints',\n",
       " 'Deep+Learning+using+Mercari+Data+set.ipynb',\n",
       " 'mini_subtrain.csv',\n",
       " 'subtrain.csv',\n",
       " 'validation.csv']"
      ]
     },
     "execution_count": 2,
     "metadata": {},
     "output_type": "execute_result"
    }
   ],
   "source": [
    "os.listdir()"
   ]
  },
  {
   "cell_type": "code",
   "execution_count": 3,
   "metadata": {},
   "outputs": [],
   "source": [
    "subtrain = pd.read_csv(\"subtrain.csv\",index_col=0)"
   ]
  },
  {
   "cell_type": "code",
   "execution_count": 4,
   "metadata": {},
   "outputs": [
    {
     "data": {
      "text/plain": [
       "(741269, 27)"
      ]
     },
     "execution_count": 4,
     "metadata": {},
     "output_type": "execute_result"
    }
   ],
   "source": [
    "subtrain.shape"
   ]
  },
  {
   "cell_type": "code",
   "execution_count": 12,
   "metadata": {},
   "outputs": [
    {
     "name": "stdout",
     "output_type": "stream",
     "text": [
      "<class 'pandas.core.frame.DataFrame'>\n",
      "Int64Index: 741269 entries, 1 to 741269\n",
      "Data columns (total 27 columns):\n",
      "item_condition_id       741269 non-null int64\n",
      "price                   741269 non-null float64\n",
      "shipping                741269 non-null int64\n",
      "no.brand_name           741269 non-null int64\n",
      "log.excl.description    741268 non-null float64\n",
      "excl.name               741269 non-null int64\n",
      "dollar.description      741268 non-null float64\n",
      "fancy.categories        741269 non-null int64\n",
      "cheap.categories        741269 non-null int64\n",
      "fancy.brands            741269 non-null int64\n",
      "cheap.brands            741269 non-null int64\n",
      "sale                    741268 non-null float64\n",
      "free                    741268 non-null float64\n",
      "save                    741268 non-null float64\n",
      "deal                    741268 non-null float64\n",
      "good                    741268 non-null float64\n",
      "steal                   741268 non-null float64\n",
      "now                     741268 non-null float64\n",
      "cheap                   741268 non-null float64\n",
      "buy                     741268 non-null float64\n",
      "excellent               741268 non-null float64\n",
      "great                   741268 non-null float64\n",
      "michael.brand           741269 non-null int64\n",
      "jordan.name             741269 non-null int64\n",
      "iphon.name              741269 non-null int64\n",
      "bundl.name              741269 non-null int64\n",
      "cap.letter.brand        741269 non-null int64\n",
      "dtypes: float64(14), int64(13)\n",
      "memory usage: 158.4 MB\n"
     ]
    }
   ],
   "source": [
    "#We need to check for missing values in the data set\n",
    "subtrain.info()"
   ]
  },
  {
   "cell_type": "code",
   "execution_count": 7,
   "metadata": {},
   "outputs": [],
   "source": [
    "y = np.log(subtrain.price + 1)\n",
    "X = subtrain.drop([\"price\"],axis = 1).as_matrix()\n"
   ]
  },
  {
   "cell_type": "code",
   "execution_count": 11,
   "metadata": {},
   "outputs": [
    {
     "data": {
      "text/plain": [
       "13"
      ]
     },
     "execution_count": 11,
     "metadata": {},
     "output_type": "execute_result"
    }
   ],
   "source": []
  },
  {
   "cell_type": "code",
   "execution_count": 8,
   "metadata": {},
   "outputs": [
    {
     "name": "stdout",
     "output_type": "stream",
     "text": [
      "Train on 518888 samples, validate on 222381 samples\n",
      "Epoch 1/30\n",
      "518888/518888 [==============================] - 39s 75us/step - loss: 0.5200 - val_loss: nan\n",
      "Epoch 2/30\n",
      "518888/518888 [==============================] - 38s 74us/step - loss: 0.4707 - val_loss: nan\n"
     ]
    },
    {
     "ename": "NameError",
     "evalue": "name 'model_3' is not defined",
     "output_type": "error",
     "traceback": [
      "\u001b[0;31m---------------------------------------------------------------------------\u001b[0m",
      "\u001b[0;31mNameError\u001b[0m                                 Traceback (most recent call last)",
      "\u001b[0;32m<ipython-input-8-f2496fd2a1f2>\u001b[0m in \u001b[0;36m<module>\u001b[0;34m()\u001b[0m\n\u001b[1;32m      8\u001b[0m \u001b[0mmodel\u001b[0m\u001b[0;34m.\u001b[0m\u001b[0mcompile\u001b[0m\u001b[0;34m(\u001b[0m\u001b[0moptimizer\u001b[0m\u001b[0;34m=\u001b[0m \u001b[0;34m\"adam\"\u001b[0m\u001b[0;34m,\u001b[0m \u001b[0mloss\u001b[0m\u001b[0;34m=\u001b[0m \u001b[0;34m\"mean_squared_error\"\u001b[0m\u001b[0;34m)\u001b[0m\u001b[0;34m\u001b[0m\u001b[0m\n\u001b[1;32m      9\u001b[0m \u001b[0mmodel_4\u001b[0m \u001b[0;34m=\u001b[0m \u001b[0mmodel\u001b[0m\u001b[0;34m.\u001b[0m\u001b[0mfit\u001b[0m\u001b[0;34m(\u001b[0m\u001b[0mX\u001b[0m\u001b[0;34m,\u001b[0m\u001b[0my\u001b[0m\u001b[0;34m,\u001b[0m \u001b[0mepochs\u001b[0m\u001b[0;34m=\u001b[0m \u001b[0;36m30\u001b[0m\u001b[0;34m,\u001b[0m \u001b[0mcallbacks\u001b[0m\u001b[0;34m=\u001b[0m \u001b[0;34m[\u001b[0m\u001b[0mestop_monitor\u001b[0m\u001b[0;34m]\u001b[0m\u001b[0;34m,\u001b[0m \u001b[0mvalidation_split\u001b[0m\u001b[0;34m=\u001b[0m \u001b[0;36m0.3\u001b[0m\u001b[0;34m)\u001b[0m\u001b[0;34m\u001b[0m\u001b[0m\n\u001b[0;32m---> 10\u001b[0;31m \u001b[0mRMSE_model_4\u001b[0m \u001b[0;34m=\u001b[0m \u001b[0mnp\u001b[0m\u001b[0;34m.\u001b[0m\u001b[0msqrt\u001b[0m\u001b[0;34m(\u001b[0m\u001b[0mmin\u001b[0m\u001b[0;34m(\u001b[0m\u001b[0mmodel_3\u001b[0m\u001b[0;34m.\u001b[0m\u001b[0mhistory\u001b[0m\u001b[0;34m[\u001b[0m\u001b[0;34m\"val_loss\"\u001b[0m\u001b[0;34m]\u001b[0m\u001b[0;34m)\u001b[0m\u001b[0;34m)\u001b[0m\u001b[0;34m\u001b[0m\u001b[0m\n\u001b[0m\u001b[1;32m     11\u001b[0m \u001b[0mRMSE_model_4\u001b[0m\u001b[0;34m\u001b[0m\u001b[0m\n",
      "\u001b[0;31mNameError\u001b[0m: name 'model_3' is not defined"
     ]
    }
   ],
   "source": [
    "estop_monitor = EarlyStopping(patience= 2)\n",
    "pre_shape = (X.shape[1],)\n",
    "model = Sequential()\n",
    "model.add(Dense(10,activation= \"relu\", input_shape = pre_shape))\n",
    "model.add(Dense(10,activation= \"relu\"))\n",
    "model.add(Dense(10,activation= \"relu\"))\n",
    "model.add(Dense(1,activation = \"relu\"))\n",
    "model.compile(optimizer= \"adam\", loss= \"mean_squared_error\")\n",
    "model_4 = model.fit(X,y, epochs= 30, callbacks= [estop_monitor], validation_split= 0.3)\n",
    "RMSE_model_4 = np.sqrt(min(model_4.history[\"val_loss\"]))\n",
    "RMSE_model_4"
   ]
  },
  {
   "cell_type": "code",
   "execution_count": 9,
   "metadata": {},
   "outputs": [
    {
     "data": {
      "text/plain": [
       "nan"
      ]
     },
     "execution_count": 9,
     "metadata": {},
     "output_type": "execute_result"
    }
   ],
   "source": []
  },
  {
   "cell_type": "code",
   "execution_count": null,
   "metadata": {},
   "outputs": [],
   "source": []
  }
 ],
 "metadata": {
  "kernelspec": {
   "display_name": "Python 3",
   "language": "python",
   "name": "python3"
  },
  "language_info": {
   "codemirror_mode": {
    "name": "ipython",
    "version": 3
   },
   "file_extension": ".py",
   "mimetype": "text/x-python",
   "name": "python",
   "nbconvert_exporter": "python",
   "pygments_lexer": "ipython3",
   "version": "3.6.1"
  }
 },
 "nbformat": 4,
 "nbformat_minor": 2
}
